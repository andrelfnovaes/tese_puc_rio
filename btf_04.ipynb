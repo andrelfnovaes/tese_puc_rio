{
 "cells": [
  {
   "cell_type": "code",
   "execution_count": 1,
   "metadata": {},
   "outputs": [],
   "source": [
    "import numpy as np\n",
    "import pandas as pd\n",
    "import matplotlib.pyplot as plt\n",
    "\n",
    "import statsmodels.api as sm\n",
    "from statsmodels.tsa.arima_process import ArmaProcess\n"
   ]
  },
  {
   "cell_type": "code",
   "execution_count": 2,
   "metadata": {},
   "outputs": [],
   "source": [
    "# Initialize a DataFrame to store MAPE values\n",
    "mape_df = pd.DataFrame(columns=['MAPE_BTF', 'MAPE_AR1', 'MAPE_AR2'])\n",
    "mse_df = pd.DataFrame(columns=['MSE_BTF', 'MSE_AR1', 'MSE_AR2'])\n",
    "\n",
    "# Loop through time series\n",
    "for seed in range(0, 1000):\n",
    "\n",
    "    # Generate synthetic AR(p) series\n",
    "    np.random.seed(seed)\n",
    "    ar_params = np.array([1, np.random.uniform(-0.5, 0.5)])\n",
    "    ma_params = np.array([1])\n",
    "    ar_process = ArmaProcess(ar_params, ma_params)\n",
    "    synthetic_ar_data = ar_process.generate_sample(nsample=100)\n",
    "    synthetic_ar_series = pd.Series(synthetic_ar_data)\n",
    "    synthetic_ar_series = synthetic_ar_series + 10\n",
    "\n",
    "    # Create shifts\n",
    "    y = synthetic_ar_series\n",
    "    y_plus_1 = y.shift(-1)\n",
    "    y_minus_1 = y.shift(1)\n",
    "    y_minus_2 = y.shift(2)\n",
    "\n",
    "    # Prepare data for linear regression (drop NaN values due to shifting)\n",
    "    df = pd.DataFrame({\n",
    "        'y_plus_1': y_plus_1,\n",
    "        'y': y,\n",
    "        'y_minus_1': y_minus_1,\n",
    "        'y_minus_2': y_minus_2\n",
    "    }).dropna()\n",
    "\n",
    "    # Estimation: BTF\n",
    "    btf = sm.add_constant(df[['y_minus_1', 'y_plus_1']])\n",
    "    model_btf = sm.OLS(df['y'], btf)\n",
    "    results_btf = model_btf.fit()\n",
    "    y_btf = results_btf.predict(btf)\n",
    "    mape_btf = np.mean(np.abs((df['y'] - y_btf) / df['y'])) * 100\n",
    "\n",
    "    # Estimation: AR(1)\n",
    "    ar_1 = sm.add_constant(df[['y_minus_1']])\n",
    "    model_ar_1 = sm.OLS(df['y'], ar_1)\n",
    "    results_ar_1 = model_ar_1.fit()\n",
    "    y_ar_1 = results_ar_1.predict(ar_1)\n",
    "    mape_ar_1 = np.mean(np.abs((df['y'] - y_ar_1) / df['y'])) * 100\n",
    "\n",
    "    # Estimation: AR(2)\n",
    "    ar_2 = sm.add_constant(df[['y_minus_1', 'y_minus_2']])\n",
    "    model_ar_2 = sm.OLS(df['y'], ar_2)\n",
    "    results_ar_2 = model_ar_2.fit()\n",
    "    y_ar_2 = results_ar_2.predict(ar_2)\n",
    "    mape_ar_2 = np.mean(np.abs((df['y'] - y_ar_2) / df['y'])) * 100\n",
    "\n",
    "    # Store MAPE\n",
    "    mape_df.loc[seed] = [mape_btf, mape_ar_1, mape_ar_2]\n",
    "\n",
    "    # Store MSE\n",
    "    mse_df.loc[seed] = [results_btf.mse_model, results_ar_1.mse_model, results_ar_2.mse_model]\n",
    "    \n",
    "# # Display the MAPE DataFrame\n",
    "# display(mape_df)\n",
    "# display(mse_df)\n"
   ]
  },
  {
   "cell_type": "code",
   "execution_count": 3,
   "metadata": {},
   "outputs": [
    {
     "name": "stdout",
     "output_type": "stream",
     "text": [
      "MAPE_BTF    808\n",
      "MAPE_AR2    168\n",
      "MAPE_AR1     24\n",
      "Name: count, dtype: int64\n"
     ]
    }
   ],
   "source": [
    "# Find the column with the minimum MAPE value for each row\n",
    "min_mape_columns = mape_df.idxmin(axis=1)\n",
    "\n",
    "# Count the occurrences of each column being the minimum\n",
    "min_mape_counts = min_mape_columns.value_counts()\n",
    "\n",
    "# Display the result\n",
    "print(min_mape_counts)\n"
   ]
  },
  {
   "cell_type": "code",
   "execution_count": 4,
   "metadata": {},
   "outputs": [
    {
     "name": "stdout",
     "output_type": "stream",
     "text": [
      "MSE_AR2    828\n",
      "MSE_AR1    104\n",
      "MSE_BTF     68\n",
      "Name: count, dtype: int64\n"
     ]
    }
   ],
   "source": [
    "# Find the column with the minimum MASE value for each row\n",
    "min_mse_columns = mse_df.idxmin(axis=1)\n",
    "\n",
    "# Count the occurrences of each column being the minimum\n",
    "min_mse_counts = min_mse_columns.value_counts()\n",
    "\n",
    "# Display the result\n",
    "print(min_mse_counts)"
   ]
  },
  {
   "cell_type": "code",
   "execution_count": null,
   "metadata": {},
   "outputs": [],
   "source": []
  },
  {
   "cell_type": "code",
   "execution_count": null,
   "metadata": {},
   "outputs": [],
   "source": []
  },
  {
   "cell_type": "code",
   "execution_count": null,
   "metadata": {},
   "outputs": [],
   "source": []
  },
  {
   "cell_type": "code",
   "execution_count": null,
   "metadata": {},
   "outputs": [],
   "source": []
  }
 ],
 "metadata": {
  "kernelspec": {
   "display_name": "holistic-ai",
   "language": "python",
   "name": "python3"
  },
  "language_info": {
   "codemirror_mode": {
    "name": "ipython",
    "version": 3
   },
   "file_extension": ".py",
   "mimetype": "text/x-python",
   "name": "python",
   "nbconvert_exporter": "python",
   "pygments_lexer": "ipython3",
   "version": "3.10.13"
  }
 },
 "nbformat": 4,
 "nbformat_minor": 2
}
