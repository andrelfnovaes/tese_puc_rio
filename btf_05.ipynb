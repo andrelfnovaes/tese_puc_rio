{
 "cells": [
  {
   "cell_type": "code",
   "execution_count": 1,
   "metadata": {},
   "outputs": [],
   "source": [
    "import numpy as np\n",
    "import pandas as pd\n",
    "import matplotlib.pyplot as plt\n",
    "\n",
    "import statsmodels.api as sm\n",
    "from statsmodels.tsa.arima_process import ArmaProcess\n"
   ]
  },
  {
   "cell_type": "code",
   "execution_count": 2,
   "metadata": {},
   "outputs": [],
   "source": [
    "# Load data\n",
    "data_file = 'data_original_m6.csv'\n",
    "data_original = pd.read_csv(data_file, index_col=0)\n",
    "\n",
    "# Shrink data\n",
    "shrink = 1\n",
    "nrows = int(len(data_original) * shrink)\n",
    "data_original = data_original.iloc[:nrows]"
   ]
  },
  {
   "cell_type": "code",
   "execution_count": 3,
   "metadata": {},
   "outputs": [],
   "source": [
    "tickers_split = [\n",
    " ['ABBV', 'ACN', 'AEP', 'AIZ', 'ALLE', 'AMAT', 'AMP', 'AMZN', 'AVB'],\n",
    " ['AVY', 'AXP', 'BDX', 'BF-B', 'BMY', 'BR', 'CARR', 'CDW', 'CE', 'CHTR'],\n",
    " ['CNC', 'CNP', 'COP', 'CTAS', 'CZR', 'DG', 'DPZ', 'DXC', 'META', 'FTV'],\n",
    " ['GOOG', 'GPC', 'HIG', 'HST', 'JPM', 'KR', 'OGN', 'PG', 'PPL', 'PRU'],\n",
    " ['PYPL', 'ROL', 'ROST', 'UNH', 'URI', 'V', 'VRSK', 'WRK', 'XOM', 'IVV'],\n",
    " ['IWM', 'EWU', 'EWG', 'EWL', 'EWQ', 'IEUS', 'EWJ', 'EWT', 'MCHI'],\n",
    " ['INDA', 'EWY', 'EWA', 'EWH', 'EWZ', 'EWC', 'IEMG', 'LQD', 'HYG', 'SHY'],\n",
    " ['IEF', 'TLT', 'SEGA.L', 'IEAA.L', 'HIGH.L', 'JPEA.L', 'IAU', 'SLV', 'GSG', 'REET'],\n",
    " ['ICLN', 'IXN', 'IGF', 'IUVL.L', 'IUMO.L', 'SPMV.L', 'IEVL.L', 'IEFM.L', 'MVEU.L', 'XLK'],\n",
    " ['XLF', 'XLV', 'XLE', 'XLY', 'XLI', 'XLC', 'XLU', 'XLP', 'XLB', 'VXX']\n",
    " ]\n",
    "\n",
    "# Just one list\n",
    "tickers = [ticker for sublist in tickers_split for ticker in sublist]\n",
    "\n",
    "# tickers = ['ABBV', 'ACN', 'AEP', 'AIZ', 'ALLE', 'AMAT', 'AMP', 'AMZN', 'AVB']"
   ]
  },
  {
   "cell_type": "code",
   "execution_count": 4,
   "metadata": {},
   "outputs": [],
   "source": [
    "# Initialize a DataFrame to store MAPE values\n",
    "mape_df = pd.DataFrame(columns=['MAPE_BTF', 'MAPE_AR1', 'MAPE_AR2'])\n",
    "mse_df = pd.DataFrame(columns=['MSE_BTF', 'MSE_AR1', 'MSE_AR2'])\n",
    "\n",
    "# Loop through time series\n",
    "for ticker in tickers:\n",
    "\n",
    "    # Create shifts\n",
    "    y = data_original[ticker]\n",
    "    y_plus_1 = y.shift(-1)\n",
    "    y_minus_1 = y.shift(1)\n",
    "    y_minus_2 = y.shift(2)\n",
    "\n",
    "    # Prepare data for linear regression (drop NaN values due to shifting)\n",
    "    df = pd.DataFrame({\n",
    "        'y_plus_1': y_plus_1,\n",
    "        'y': y,\n",
    "        'y_minus_1': y_minus_1,\n",
    "        'y_minus_2': y_minus_2\n",
    "    }).dropna()\n",
    "\n",
    "    # Estimation: BTF\n",
    "    btf = sm.add_constant(df[['y_minus_1', 'y_plus_1']])\n",
    "    model_btf = sm.OLS(df['y'], btf)\n",
    "    results_btf = model_btf.fit()\n",
    "    y_btf = results_btf.predict(btf)\n",
    "    mape_btf = np.mean(np.abs((df['y'] - y_btf) / df['y'])) * 100\n",
    "\n",
    "    # Estimation: AR(1)\n",
    "    ar_1 = sm.add_constant(df[['y_minus_1']])\n",
    "    model_ar_1 = sm.OLS(df['y'], ar_1)\n",
    "    results_ar_1 = model_ar_1.fit()\n",
    "    y_ar_1 = results_ar_1.predict(ar_1)\n",
    "    mape_ar_1 = np.mean(np.abs((df['y'] - y_ar_1) / df['y'])) * 100\n",
    "\n",
    "    # Estimation: AR(2)\n",
    "    ar_2 = sm.add_constant(df[['y_minus_1', 'y_minus_2']])\n",
    "    model_ar_2 = sm.OLS(df['y'], ar_2)\n",
    "    results_ar_2 = model_ar_2.fit()\n",
    "    y_ar_2 = results_ar_2.predict(ar_2)\n",
    "    mape_ar_2 = np.mean(np.abs((df['y'] - y_ar_2) / df['y'])) * 100\n",
    "\n",
    "    # Store MAPE\n",
    "    mape_df.loc[ticker] = [mape_btf, mape_ar_1, mape_ar_2]\n",
    "\n",
    "    # Store MSE\n",
    "    mse_df.loc[ticker] = [results_btf.mse_model, results_ar_1.mse_model, results_ar_2.mse_model]\n",
    "\n",
    "    # all_models = pd.DataFrame({\n",
    "    #                 'y': y,\n",
    "    #                 'y_btf': y_btf,\n",
    "    #                 'y_ar_1': y_ar_1,\n",
    "    #                 'y_ar_2': y_ar_2,\n",
    "    #                 })\n",
    "    \n",
    "    # # Define custom styles for each series\n",
    "    # styles = {\n",
    "    #     'y': {'linestyle': '-', 'color': 'black', 'marker': 'd'},\n",
    "    #     'y_btf': {'linestyle': '--', 'color': 'green', 'marker': 's'},\n",
    "    #     'y_ar_1': {'linestyle': '--', 'color': 'blue', 'marker': 's'},\n",
    "    #     'y_ar_2': {'linestyle': '-.', 'color': 'red', 'marker': 'x'},\n",
    "    # }\n",
    "\n",
    "    # # Plot all series in the same graph with custom styles\n",
    "    # plt.figure(figsize=(14, 7))\n",
    "\n",
    "    # for column in all_models.columns:\n",
    "    #     plt.plot(all_models[column], \n",
    "    #             linestyle=styles[column]['linestyle'], \n",
    "    #             color=styles[column]['color'], \n",
    "    #             marker=styles[column]['marker'], \n",
    "    #             label=column)\n",
    "\n",
    "    # # Add title and labels\n",
    "    # plt.title('Comparison of All Models')\n",
    "    # plt.xlabel('Index')\n",
    "    # plt.ylabel('Values')\n",
    "\n",
    "    # # Add legend\n",
    "    # plt.legend()\n",
    "\n",
    "    # # Show grid\n",
    "    # plt.grid(True)\n",
    "\n",
    "    # # Display the plot\n",
    "    # plt.show()\n",
    "    \n",
    "# # Display the MAPE DataFrame\n",
    "# display(mape_df)\n",
    "# display(mse_df)\n"
   ]
  },
  {
   "cell_type": "code",
   "execution_count": 5,
   "metadata": {},
   "outputs": [
    {
     "name": "stdout",
     "output_type": "stream",
     "text": [
      "MAPE_BTF    98\n",
      "Name: count, dtype: int64\n"
     ]
    }
   ],
   "source": [
    "# Find the column with the minimum MAPE value for each row\n",
    "min_mape_columns = mape_df.idxmin(axis=1)\n",
    "\n",
    "# Count the occurrences of each column being the minimum\n",
    "min_mape_counts = min_mape_columns.value_counts()\n",
    "\n",
    "# Display the result\n",
    "print(min_mape_counts)\n"
   ]
  },
  {
   "cell_type": "code",
   "execution_count": 6,
   "metadata": {},
   "outputs": [
    {
     "name": "stdout",
     "output_type": "stream",
     "text": [
      "MSE_AR2    98\n",
      "Name: count, dtype: int64\n"
     ]
    }
   ],
   "source": [
    "# Find the column with the minimum MASE value for each row\n",
    "min_mse_columns = mse_df.idxmin(axis=1)\n",
    "\n",
    "# Count the occurrences of each column being the minimum\n",
    "min_mse_counts = min_mse_columns.value_counts()\n",
    "\n",
    "# Display the result\n",
    "print(min_mse_counts)"
   ]
  },
  {
   "cell_type": "code",
   "execution_count": null,
   "metadata": {},
   "outputs": [],
   "source": []
  },
  {
   "cell_type": "code",
   "execution_count": null,
   "metadata": {},
   "outputs": [],
   "source": []
  },
  {
   "cell_type": "code",
   "execution_count": null,
   "metadata": {},
   "outputs": [],
   "source": []
  },
  {
   "cell_type": "code",
   "execution_count": null,
   "metadata": {},
   "outputs": [],
   "source": []
  },
  {
   "cell_type": "code",
   "execution_count": null,
   "metadata": {},
   "outputs": [],
   "source": []
  }
 ],
 "metadata": {
  "kernelspec": {
   "display_name": "holistic-ai",
   "language": "python",
   "name": "python3"
  },
  "language_info": {
   "codemirror_mode": {
    "name": "ipython",
    "version": 3
   },
   "file_extension": ".py",
   "mimetype": "text/x-python",
   "name": "python",
   "nbconvert_exporter": "python",
   "pygments_lexer": "ipython3",
   "version": "3.10.13"
  }
 },
 "nbformat": 4,
 "nbformat_minor": 2
}
